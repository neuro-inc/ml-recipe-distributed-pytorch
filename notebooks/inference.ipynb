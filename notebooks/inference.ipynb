{
 "cells": [
  {
   "cell_type": "markdown",
   "metadata": {},
   "source": [
    "After your model was trained you can have a look at result prediction using provaded inference code."
   ]
  },
  {
   "cell_type": "code",
   "execution_count": null,
   "metadata": {},
   "outputs": [],
   "source": [
    "%load_ext autoreload\n",
    "%autoreload"
   ]
  },
  {
   "cell_type": "code",
   "execution_count": null,
   "metadata": {},
   "outputs": [],
   "source": [
    "import sys\n",
    "sys.path.append('../modules')"
   ]
  },
  {
   "cell_type": "code",
   "execution_count": null,
   "metadata": {},
   "outputs": [],
   "source": [
    "import multiprocessing as mp\n",
    "\n",
    "import torch\n",
    "\n",
    "from utils import get_logger, set_seed, show_params\n",
    "from init import init_collate_fun, init_model\n",
    "\n",
    "from model.utils.parser import get_model_parser, get_predictor_parser, get_params\n",
    "from model.inference.predictor import Predictor\n",
    "from model.dataset import RawPreprocessor, ChunkDataset\n",
    "\n",
    "from validate import get_validation_dataset, main\n",
    "\n",
    "from transformers import BertTokenizer"
   ]
  },
  {
   "cell_type": "code",
   "execution_count": null,
   "metadata": {},
   "outputs": [],
   "source": [
    "from model.utils.parser import load_config_file, get_model_parser, get_predictor_parser\n",
    "import multiprocessing as mp"
   ]
  },
  {
   "cell_type": "code",
   "execution_count": null,
   "metadata": {},
   "outputs": [],
   "source": [
    "MODEL_CONFIG_PATH = '../results/{your_experiment_name}/model.cfg'\n",
    "VALID_CONFIG_PATH = '../config/validate.cfg'"
   ]
  },
  {
   "cell_type": "code",
   "execution_count": null,
   "metadata": {},
   "outputs": [],
   "source": [
    "_, params = load_config_file(get_predictor_parser, VALID_CONFIG_PATH)\n",
    "_, model_params = load_config_file(get_model_parser, MODEL_CONFIG_PATH)"
   ]
  },
  {
   "cell_type": "code",
   "execution_count": null,
   "metadata": {},
   "outputs": [],
   "source": [
    "params.checkpoint = '.' + params.checkpoint\n",
    "params.data_path = '.' + params.data_path\n",
    "params.processed_data_path = '.' + params.processed_data_path\n",
    "\n",
    "model_params.vocab_file = '.' + model_params.vocab_file"
   ]
  },
  {
   "cell_type": "code",
   "execution_count": null,
   "metadata": {
    "scrolled": false
   },
   "outputs": [],
   "source": [
    "logger = get_logger(logger_name='validate')\n",
    "\n",
    "params.n_jobs = min(params.n_jobs, mp.cpu_count() // 2)\n",
    "\n",
    "predictor = main(params, model_params)"
   ]
  },
  {
   "cell_type": "code",
   "execution_count": null,
   "metadata": {},
   "outputs": [],
   "source": [
    "predictor.show_predictions(n_docs=1)"
   ]
  },
  {
   "cell_type": "code",
   "execution_count": null,
   "metadata": {},
   "outputs": [],
   "source": []
  }
 ],
 "metadata": {
  "kernelspec": {
   "display_name": "Python 3",
   "language": "python",
   "name": "python3"
  },
  "language_info": {
   "codemirror_mode": {
    "name": "ipython",
    "version": 3
   },
   "file_extension": ".py",
   "mimetype": "text/x-python",
   "name": "python",
   "nbconvert_exporter": "python",
   "pygments_lexer": "ipython3",
   "version": "3.6.9"
  }
 },
 "nbformat": 4,
 "nbformat_minor": 2
}
